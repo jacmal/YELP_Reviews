{
  "nbformat": 4,
  "nbformat_minor": 0,
  "metadata": {
    "colab": {
      "name": "YELP_Reviews_Bayes_NLP_Classyfication.ipynb",
      "provenance": [],
      "collapsed_sections": [],
      "toc_visible": true,
      "authorship_tag": "ABX9TyOoB0TmvC64f89cco6h5Ayk",
      "include_colab_link": true
    },
    "kernelspec": {
      "name": "python3",
      "display_name": "Python 3"
    }
  },
  "cells": [
    {
      "cell_type": "markdown",
      "metadata": {
        "id": "view-in-github",
        "colab_type": "text"
      },
      "source": [
        "<a href=\"https://colab.research.google.com/github/jacmal/YELP_Reviews/blob/main/YELP_Reviews_Bayes_NLP_Classyfication.ipynb\" target=\"_parent\"><img src=\"https://colab.research.google.com/assets/colab-badge.svg\" alt=\"Open In Colab\"/></a>"
      ]
    },
    {
      "cell_type": "markdown",
      "metadata": {
        "id": "CyJPrm8JUGmc"
      },
      "source": [
        "#LIBRARIES IMPORT"
      ]
    },
    {
      "cell_type": "code",
      "metadata": {
        "id": "_gXnXGSnQW_U"
      },
      "source": [
        "import requests\r\n",
        "import io\r\n",
        "\r\n",
        "import pandas as pd\r\n",
        "import numpy as np\r\n",
        "import matplotlib.pyplot as plt\r\n",
        "import seaborn as sns\r\n",
        "\r\n",
        "import string\r\n",
        "import nltk\r\n",
        "from nltk.corpus import stopwords\r\n",
        "\r\n",
        "from sklearn.model_selection import train_test_split\r\n",
        "from sklearn.feature_extraction.text import CountVectorizer\r\n",
        "from sklearn.naive_bayes import MultinomialNB\r\n",
        "\r\n",
        "from sklearn.metrics import classification_report, confusion_matrix"
      ],
      "execution_count": 1,
      "outputs": []
    },
    {
      "cell_type": "markdown",
      "metadata": {
        "id": "c1qX8bZOUcfb"
      },
      "source": [
        "#LOAD DATASET"
      ]
    },
    {
      "cell_type": "code",
      "metadata": {
        "colab": {
          "base_uri": "https://localhost:8080/",
          "height": 358
        },
        "id": "j81iNveiPQxL",
        "outputId": "869f9a84-3025-40d3-ddb0-418d46a1f22b"
      },
      "source": [
        "# URL link\r\n",
        "url=\"https://raw.githubusercontent.com/jacmal/YELP_Reviews/main/yelp.csv\"\r\n",
        "site = requests.get(url).content\r\n",
        "\r\n",
        "df = pd.read_csv(io.StringIO(site.decode('utf-8')))\r\n",
        "df.head(2)"
      ],
      "execution_count": 2,
      "outputs": [
        {
          "output_type": "execute_result",
          "data": {
            "text/html": [
              "<div>\n",
              "<style scoped>\n",
              "    .dataframe tbody tr th:only-of-type {\n",
              "        vertical-align: middle;\n",
              "    }\n",
              "\n",
              "    .dataframe tbody tr th {\n",
              "        vertical-align: top;\n",
              "    }\n",
              "\n",
              "    .dataframe thead th {\n",
              "        text-align: right;\n",
              "    }\n",
              "</style>\n",
              "<table border=\"1\" class=\"dataframe\">\n",
              "  <thead>\n",
              "    <tr style=\"text-align: right;\">\n",
              "      <th></th>\n",
              "      <th>business_id</th>\n",
              "      <th>date</th>\n",
              "      <th>review_id</th>\n",
              "      <th>stars</th>\n",
              "      <th>text</th>\n",
              "      <th>type</th>\n",
              "      <th>user_id</th>\n",
              "      <th>cool</th>\n",
              "      <th>useful</th>\n",
              "      <th>funny</th>\n",
              "    </tr>\n",
              "  </thead>\n",
              "  <tbody>\n",
              "    <tr>\n",
              "      <th>0</th>\n",
              "      <td>9yKzy9PApeiPPOUJEtnvkg</td>\n",
              "      <td>2011-01-26</td>\n",
              "      <td>fWKvX83p0-ka4JS3dc6E5A</td>\n",
              "      <td>5</td>\n",
              "      <td>My wife took me here on my birthday for breakf...</td>\n",
              "      <td>review</td>\n",
              "      <td>rLtl8ZkDX5vH5nAx9C3q5Q</td>\n",
              "      <td>2</td>\n",
              "      <td>5</td>\n",
              "      <td>0</td>\n",
              "    </tr>\n",
              "    <tr>\n",
              "      <th>1</th>\n",
              "      <td>ZRJwVLyzEJq1VAihDhYiow</td>\n",
              "      <td>2011-07-27</td>\n",
              "      <td>IjZ33sJrzXqU-0X6U8NwyA</td>\n",
              "      <td>5</td>\n",
              "      <td>I have no idea why some people give bad review...</td>\n",
              "      <td>review</td>\n",
              "      <td>0a2KyEL0d3Yb1V6aivbIuQ</td>\n",
              "      <td>0</td>\n",
              "      <td>0</td>\n",
              "      <td>0</td>\n",
              "    </tr>\n",
              "  </tbody>\n",
              "</table>\n",
              "</div>"
            ],
            "text/plain": [
              "              business_id        date  ... useful  funny\n",
              "0  9yKzy9PApeiPPOUJEtnvkg  2011-01-26  ...      5      0\n",
              "1  ZRJwVLyzEJq1VAihDhYiow  2011-07-27  ...      0      0\n",
              "\n",
              "[2 rows x 10 columns]"
            ]
          },
          "metadata": {
            "tags": []
          },
          "execution_count": 2
        }
      ]
    },
    {
      "cell_type": "markdown",
      "metadata": {
        "id": "zEff1K-HV12i"
      },
      "source": [
        "#DATA SET ANALYSIS"
      ]
    },
    {
      "cell_type": "code",
      "metadata": {
        "colab": {
          "base_uri": "https://localhost:8080/"
        },
        "id": "VTJaDRbDWKYB",
        "outputId": "669ab45e-6fba-4eb5-815b-84a145e2fcfc"
      },
      "source": [
        "df.shape"
      ],
      "execution_count": 3,
      "outputs": [
        {
          "output_type": "execute_result",
          "data": {
            "text/plain": [
              "(10000, 10)"
            ]
          },
          "metadata": {
            "tags": []
          },
          "execution_count": 3
        }
      ]
    },
    {
      "cell_type": "code",
      "metadata": {
        "colab": {
          "base_uri": "https://localhost:8080/"
        },
        "id": "bzm6ET03WQCS",
        "outputId": "985b644b-7d74-4eef-e344-48051b8ae1e2"
      },
      "source": [
        "df.columns"
      ],
      "execution_count": 4,
      "outputs": [
        {
          "output_type": "execute_result",
          "data": {
            "text/plain": [
              "Index(['business_id', 'date', 'review_id', 'stars', 'text', 'type', 'user_id',\n",
              "       'cool', 'useful', 'funny'],\n",
              "      dtype='object')"
            ]
          },
          "metadata": {
            "tags": []
          },
          "execution_count": 4
        }
      ]
    },
    {
      "cell_type": "code",
      "metadata": {
        "colab": {
          "base_uri": "https://localhost:8080/"
        },
        "id": "GUWEfNBAUbth",
        "outputId": "a7e8d03f-f496-4947-9bb0-1a4776f40e4a"
      },
      "source": [
        "df.info()"
      ],
      "execution_count": 5,
      "outputs": [
        {
          "output_type": "stream",
          "text": [
            "<class 'pandas.core.frame.DataFrame'>\n",
            "RangeIndex: 10000 entries, 0 to 9999\n",
            "Data columns (total 10 columns):\n",
            " #   Column       Non-Null Count  Dtype \n",
            "---  ------       --------------  ----- \n",
            " 0   business_id  10000 non-null  object\n",
            " 1   date         10000 non-null  object\n",
            " 2   review_id    10000 non-null  object\n",
            " 3   stars        10000 non-null  int64 \n",
            " 4   text         10000 non-null  object\n",
            " 5   type         10000 non-null  object\n",
            " 6   user_id      10000 non-null  object\n",
            " 7   cool         10000 non-null  int64 \n",
            " 8   useful       10000 non-null  int64 \n",
            " 9   funny        10000 non-null  int64 \n",
            "dtypes: int64(4), object(6)\n",
            "memory usage: 781.4+ KB\n"
          ],
          "name": "stdout"
        }
      ]
    },
    {
      "cell_type": "code",
      "metadata": {
        "colab": {
          "base_uri": "https://localhost:8080/",
          "height": 300
        },
        "id": "CgUXX66OWGKS",
        "outputId": "74b432e2-ffbd-4e39-b7e5-9ad379add58f"
      },
      "source": [
        "df.describe()"
      ],
      "execution_count": 6,
      "outputs": [
        {
          "output_type": "execute_result",
          "data": {
            "text/html": [
              "<div>\n",
              "<style scoped>\n",
              "    .dataframe tbody tr th:only-of-type {\n",
              "        vertical-align: middle;\n",
              "    }\n",
              "\n",
              "    .dataframe tbody tr th {\n",
              "        vertical-align: top;\n",
              "    }\n",
              "\n",
              "    .dataframe thead th {\n",
              "        text-align: right;\n",
              "    }\n",
              "</style>\n",
              "<table border=\"1\" class=\"dataframe\">\n",
              "  <thead>\n",
              "    <tr style=\"text-align: right;\">\n",
              "      <th></th>\n",
              "      <th>stars</th>\n",
              "      <th>cool</th>\n",
              "      <th>useful</th>\n",
              "      <th>funny</th>\n",
              "    </tr>\n",
              "  </thead>\n",
              "  <tbody>\n",
              "    <tr>\n",
              "      <th>count</th>\n",
              "      <td>10000.000000</td>\n",
              "      <td>10000.000000</td>\n",
              "      <td>10000.000000</td>\n",
              "      <td>10000.000000</td>\n",
              "    </tr>\n",
              "    <tr>\n",
              "      <th>mean</th>\n",
              "      <td>3.777500</td>\n",
              "      <td>0.876800</td>\n",
              "      <td>1.409300</td>\n",
              "      <td>0.701300</td>\n",
              "    </tr>\n",
              "    <tr>\n",
              "      <th>std</th>\n",
              "      <td>1.214636</td>\n",
              "      <td>2.067861</td>\n",
              "      <td>2.336647</td>\n",
              "      <td>1.907942</td>\n",
              "    </tr>\n",
              "    <tr>\n",
              "      <th>min</th>\n",
              "      <td>1.000000</td>\n",
              "      <td>0.000000</td>\n",
              "      <td>0.000000</td>\n",
              "      <td>0.000000</td>\n",
              "    </tr>\n",
              "    <tr>\n",
              "      <th>25%</th>\n",
              "      <td>3.000000</td>\n",
              "      <td>0.000000</td>\n",
              "      <td>0.000000</td>\n",
              "      <td>0.000000</td>\n",
              "    </tr>\n",
              "    <tr>\n",
              "      <th>50%</th>\n",
              "      <td>4.000000</td>\n",
              "      <td>0.000000</td>\n",
              "      <td>1.000000</td>\n",
              "      <td>0.000000</td>\n",
              "    </tr>\n",
              "    <tr>\n",
              "      <th>75%</th>\n",
              "      <td>5.000000</td>\n",
              "      <td>1.000000</td>\n",
              "      <td>2.000000</td>\n",
              "      <td>1.000000</td>\n",
              "    </tr>\n",
              "    <tr>\n",
              "      <th>max</th>\n",
              "      <td>5.000000</td>\n",
              "      <td>77.000000</td>\n",
              "      <td>76.000000</td>\n",
              "      <td>57.000000</td>\n",
              "    </tr>\n",
              "  </tbody>\n",
              "</table>\n",
              "</div>"
            ],
            "text/plain": [
              "              stars          cool        useful         funny\n",
              "count  10000.000000  10000.000000  10000.000000  10000.000000\n",
              "mean       3.777500      0.876800      1.409300      0.701300\n",
              "std        1.214636      2.067861      2.336647      1.907942\n",
              "min        1.000000      0.000000      0.000000      0.000000\n",
              "25%        3.000000      0.000000      0.000000      0.000000\n",
              "50%        4.000000      0.000000      1.000000      0.000000\n",
              "75%        5.000000      1.000000      2.000000      1.000000\n",
              "max        5.000000     77.000000     76.000000     57.000000"
            ]
          },
          "metadata": {
            "tags": []
          },
          "execution_count": 6
        }
      ]
    },
    {
      "cell_type": "code",
      "metadata": {
        "colab": {
          "base_uri": "https://localhost:8080/",
          "height": 183
        },
        "id": "z_QmL6bwW6l7",
        "outputId": "3a32e0ac-839a-4968-f020-6b65c71af335"
      },
      "source": [
        "# first review sample text\r\n",
        "df['text'][0]"
      ],
      "execution_count": 7,
      "outputs": [
        {
          "output_type": "execute_result",
          "data": {
            "application/vnd.google.colaboratory.intrinsic+json": {
              "type": "string"
            },
            "text/plain": [
              "'My wife took me here on my birthday for breakfast and it was excellent.  The weather was perfect which made sitting outside overlooking their grounds an absolute pleasure.  Our waitress was excellent and our food arrived quickly on the semi-busy Saturday morning.  It looked like the place fills up pretty quickly so the earlier you get here the better.\\n\\nDo yourself a favor and get their Bloody Mary.  It was phenomenal and simply the best I\\'ve ever had.  I\\'m pretty sure they only use ingredients from their garden and blend them fresh when you order it.  It was amazing.\\n\\nWhile EVERYTHING on the menu looks excellent, I had the white truffle scrambled eggs vegetable skillet and it was tasty and delicious.  It came with 2 pieces of their griddled bread with was amazing and it absolutely made the meal complete.  It was the best \"toast\" I\\'ve ever had.\\n\\nAnyway, I can\\'t wait to go back!'"
            ]
          },
          "metadata": {
            "tags": []
          },
          "execution_count": 7
        }
      ]
    },
    {
      "cell_type": "code",
      "metadata": {
        "colab": {
          "base_uri": "https://localhost:8080/"
        },
        "id": "K7esAJjwWsz6",
        "outputId": "4c3df0fb-300d-4737-f72d-6397925083f2"
      },
      "source": [
        "# create new DataFrame with text column only\r\n",
        "reviews_text = df['text']\r\n",
        "reviews_text.head()"
      ],
      "execution_count": 8,
      "outputs": [
        {
          "output_type": "execute_result",
          "data": {
            "text/plain": [
              "0    My wife took me here on my birthday for breakf...\n",
              "1    I have no idea why some people give bad review...\n",
              "2    love the gyro plate. Rice is so good and I als...\n",
              "3    Rosie, Dakota, and I LOVE Chaparral Dog Park!!...\n",
              "4    General Manager Scott Petello is a good egg!!!...\n",
              "Name: text, dtype: object"
            ]
          },
          "metadata": {
            "tags": []
          },
          "execution_count": 8
        }
      ]
    },
    {
      "cell_type": "code",
      "metadata": {
        "colab": {
          "base_uri": "https://localhost:8080/"
        },
        "id": "5EMinfu2Xfdl",
        "outputId": "786e981e-63f1-4e66-d923-872794249402"
      },
      "source": [
        "# number of reviews on each business comp.\r\n",
        "number_of_businesses_reviews = df['business_id'].value_counts()\r\n",
        "# number of companies \r\n",
        "number_of_businesses = len(number_of_businesses_reviews)\r\n",
        "\r\n",
        "print(\"Businesses: \",number_of_businesses)\r\n",
        "print(\"\")\r\n",
        "print(number_of_businesses_reviews)"
      ],
      "execution_count": 9,
      "outputs": [
        {
          "output_type": "stream",
          "text": [
            "Businesses:  4174\n",
            "\n",
            "ntN85eu27C04nwyPa8IHtw    37\n",
            "JokKtdXU7zXHcr20Lrk29A    37\n",
            "hW0Ne_HTHEAgGF1rAdmR-g    34\n",
            "WNy1uzcmm_UHmTyR--o5IA    32\n",
            "VVeogjZya58oiTxK7qUjAQ    31\n",
            "                          ..\n",
            "qFPJ_bHbS13PoEEKNexnBQ     1\n",
            "sDXXYFW9vhprUXa4b1jvWg     1\n",
            "YDyN11CdbO0ZwTlPwa5KnA     1\n",
            "ITcg0ABneVKWREfzx7v7Og     1\n",
            "z3zcsnK26QhC7TqDX73zvA     1\n",
            "Name: business_id, Length: 4174, dtype: int64\n"
          ],
          "name": "stdout"
        }
      ]
    },
    {
      "cell_type": "code",
      "metadata": {
        "colab": {
          "base_uri": "https://localhost:8080/"
        },
        "id": "ZaWWQAwaa3Iy",
        "outputId": "90f5a109-6901-47fc-ff3f-cb9b7262a8e7"
      },
      "source": [
        "df['type'].value_counts()"
      ],
      "execution_count": 10,
      "outputs": [
        {
          "output_type": "execute_result",
          "data": {
            "text/plain": [
              "review    10000\n",
              "Name: type, dtype: int64"
            ]
          },
          "metadata": {
            "tags": []
          },
          "execution_count": 10
        }
      ]
    },
    {
      "cell_type": "markdown",
      "metadata": {
        "id": "r9ebJtj-UktZ"
      },
      "source": [
        "#VISUALIZE DATASET"
      ]
    },
    {
      "cell_type": "code",
      "metadata": {
        "colab": {
          "base_uri": "https://localhost:8080/",
          "height": 358
        },
        "id": "OovcswG2aADS",
        "outputId": "eef12ee0-0cb5-49cf-abcf-1fc7812f5193"
      },
      "source": [
        "# add new column with the number of characters in the text of each review\r\n",
        "df['length'] = df['text'].apply(len)\r\n",
        "df.head(2)"
      ],
      "execution_count": 11,
      "outputs": [
        {
          "output_type": "execute_result",
          "data": {
            "text/html": [
              "<div>\n",
              "<style scoped>\n",
              "    .dataframe tbody tr th:only-of-type {\n",
              "        vertical-align: middle;\n",
              "    }\n",
              "\n",
              "    .dataframe tbody tr th {\n",
              "        vertical-align: top;\n",
              "    }\n",
              "\n",
              "    .dataframe thead th {\n",
              "        text-align: right;\n",
              "    }\n",
              "</style>\n",
              "<table border=\"1\" class=\"dataframe\">\n",
              "  <thead>\n",
              "    <tr style=\"text-align: right;\">\n",
              "      <th></th>\n",
              "      <th>business_id</th>\n",
              "      <th>date</th>\n",
              "      <th>review_id</th>\n",
              "      <th>stars</th>\n",
              "      <th>text</th>\n",
              "      <th>type</th>\n",
              "      <th>user_id</th>\n",
              "      <th>cool</th>\n",
              "      <th>useful</th>\n",
              "      <th>funny</th>\n",
              "      <th>length</th>\n",
              "    </tr>\n",
              "  </thead>\n",
              "  <tbody>\n",
              "    <tr>\n",
              "      <th>0</th>\n",
              "      <td>9yKzy9PApeiPPOUJEtnvkg</td>\n",
              "      <td>2011-01-26</td>\n",
              "      <td>fWKvX83p0-ka4JS3dc6E5A</td>\n",
              "      <td>5</td>\n",
              "      <td>My wife took me here on my birthday for breakf...</td>\n",
              "      <td>review</td>\n",
              "      <td>rLtl8ZkDX5vH5nAx9C3q5Q</td>\n",
              "      <td>2</td>\n",
              "      <td>5</td>\n",
              "      <td>0</td>\n",
              "      <td>889</td>\n",
              "    </tr>\n",
              "    <tr>\n",
              "      <th>1</th>\n",
              "      <td>ZRJwVLyzEJq1VAihDhYiow</td>\n",
              "      <td>2011-07-27</td>\n",
              "      <td>IjZ33sJrzXqU-0X6U8NwyA</td>\n",
              "      <td>5</td>\n",
              "      <td>I have no idea why some people give bad review...</td>\n",
              "      <td>review</td>\n",
              "      <td>0a2KyEL0d3Yb1V6aivbIuQ</td>\n",
              "      <td>0</td>\n",
              "      <td>0</td>\n",
              "      <td>0</td>\n",
              "      <td>1345</td>\n",
              "    </tr>\n",
              "  </tbody>\n",
              "</table>\n",
              "</div>"
            ],
            "text/plain": [
              "              business_id        date  ... funny  length\n",
              "0  9yKzy9PApeiPPOUJEtnvkg  2011-01-26  ...     0     889\n",
              "1  ZRJwVLyzEJq1VAihDhYiow  2011-07-27  ...     0    1345\n",
              "\n",
              "[2 rows x 11 columns]"
            ]
          },
          "metadata": {
            "tags": []
          },
          "execution_count": 11
        }
      ]
    },
    {
      "cell_type": "code",
      "metadata": {
        "colab": {
          "base_uri": "https://localhost:8080/",
          "height": 295
        },
        "id": "q_PqQM8RbMR6",
        "outputId": "1cc88de7-a2af-437d-83f7-ba57f43833b2"
      },
      "source": [
        "# create histogram with the number of characters in the text of each review\r\n",
        "df['length'].hist(bins=100)\r\n",
        "plt.title('number of characters in the reviews')\r\n",
        "plt.xlabel('Review')\r\n",
        "plt.ylabel('Number of characters')\r\n",
        "plt.show();"
      ],
      "execution_count": 12,
      "outputs": [
        {
          "output_type": "display_data",
          "data": {
            "image/png": "[encoded data removed]",
            "text/plain": [
              "<Figure size 432x288 with 1 Axes>"
            ]
          },
          "metadata": {
            "tags": [],
            "needs_background": "light"
          }
        }
      ]
    },
    {
      "cell_type": "code",
      "metadata": {
        "colab": {
          "base_uri": "https://localhost:8080/"
        },
        "id": "9u9uHkfgccsi",
        "outputId": "eab71941-ecc6-40ea-da2c-c995e758a394"
      },
      "source": [
        "# \r\n",
        "df['length'].describe()"
      ],
      "execution_count": 13,
      "outputs": [
        {
          "output_type": "execute_result",
          "data": {
            "text/plain": [
              "count    10000.000000\n",
              "mean       710.738700\n",
              "std        617.399827\n",
              "min          1.000000\n",
              "25%        294.000000\n",
              "50%        541.500000\n",
              "75%        930.000000\n",
              "max       4997.000000\n",
              "Name: length, dtype: float64"
            ]
          },
          "metadata": {
            "tags": []
          },
          "execution_count": 13
        }
      ]
    },
    {
      "cell_type": "code",
      "metadata": {
        "colab": {
          "base_uri": "https://localhost:8080/",
          "height": 279
        },
        "id": "xztk_2rlgDjI",
        "outputId": "91f26a1c-5cb1-455c-b270-d6b7de5dcd35"
      },
      "source": [
        "# create countplot for each rating class\r\n",
        "sns.countplot(data=df, y='stars'); "
      ],
      "execution_count": 14,
      "outputs": [
        {
          "output_type": "display_data",
          "data": {
            "image/png": "[encoded data removed]",
            "text/plain": [
              "<Figure size 432x288 with 1 Axes>"
            ]
          },
          "metadata": {
            "tags": [],
            "needs_background": "light"
          }
        }
      ]
    },
    {
      "cell_type": "code",
      "metadata": {
        "colab": {
          "base_uri": "https://localhost:8080/",
          "height": 195
        },
        "id": "LbSRD4pOg1uo",
        "outputId": "9f7e4d4b-17da-4ffa-edb7-4f06ad50af39"
      },
      "source": [
        "# create a review length histogram for each of the 5 classes of grades  \r\n",
        "grid = sns.FacetGrid(data=df, col='stars', col_wrap=5)\r\n",
        "grid.map(plt.hist, 'length', bins=20, color='blue');"
      ],
      "execution_count": 15,
      "outputs": [
        {
          "output_type": "display_data",
          "data": {
            "image/png": "[encoded data removed]",
            "text/plain": [
              "<Figure size 1080x216 with 5 Axes>"
            ]
          },
          "metadata": {
            "tags": [],
            "needs_background": "light"
          }
        }
      ]
    },
    {
      "cell_type": "markdown",
      "metadata": {
        "id": "sR6M788UZ06q"
      },
      "source": [
        "#TEXT PREPROCESSING"
      ]
    },
    {
      "cell_type": "code",
      "metadata": {
        "colab": {
          "base_uri": "https://localhost:8080/"
        },
        "id": "g8f4uPJ1ojT_",
        "outputId": "49310494-ccd9-4504-f0f7-1c0b2b185ee3"
      },
      "source": [
        "# download english stopwords\r\n",
        "nltk.download('stopwords')"
      ],
      "execution_count": 16,
      "outputs": [
        {
          "output_type": "stream",
          "text": [
            "[nltk_data] Downloading package stopwords to /root/nltk_data...\n",
            "[nltk_data]   Unzipping corpora/stopwords.zip.\n"
          ],
          "name": "stdout"
        },
        {
          "output_type": "execute_result",
          "data": {
            "text/plain": [
              "True"
            ]
          },
          "metadata": {
            "tags": []
          },
          "execution_count": 16
        }
      ]
    },
    {
      "cell_type": "code",
      "metadata": {
        "colab": {
          "base_uri": "https://localhost:8080/"
        },
        "id": "9NjYatTsBsao",
        "outputId": "11e41cd1-3a0c-4cda-90aa-9cc23a7a5787"
      },
      "source": [
        "# print english language stopwords\r\n",
        "print(stopwords.words('english'))"
      ],
      "execution_count": 17,
      "outputs": [
        {
          "output_type": "stream",
          "text": [
            "['i', 'me', 'my', 'myself', 'we', 'our', 'ours', 'ourselves', 'you', \"you're\", \"you've\", \"you'll\", \"you'd\", 'your', 'yours', 'yourself', 'yourselves', 'he', 'him', 'his', 'himself', 'she', \"she's\", 'her', 'hers', 'herself', 'it', \"it's\", 'its', 'itself', 'they', 'them', 'their', 'theirs', 'themselves', 'what', 'which', 'who', 'whom', 'this', 'that', \"that'll\", 'these', 'those', 'am', 'is', 'are', 'was', 'were', 'be', 'been', 'being', 'have', 'has', 'had', 'having', 'do', 'does', 'did', 'doing', 'a', 'an', 'the', 'and', 'but', 'if', 'or', 'because', 'as', 'until', 'while', 'of', 'at', 'by', 'for', 'with', 'about', 'against', 'between', 'into', 'through', 'during', 'before', 'after', 'above', 'below', 'to', 'from', 'up', 'down', 'in', 'out', 'on', 'off', 'over', 'under', 'again', 'further', 'then', 'once', 'here', 'there', 'when', 'where', 'why', 'how', 'all', 'any', 'both', 'each', 'few', 'more', 'most', 'other', 'some', 'such', 'no', 'nor', 'not', 'only', 'own', 'same', 'so', 'than', 'too', 'very', 's', 't', 'can', 'will', 'just', 'don', \"don't\", 'should', \"should've\", 'now', 'd', 'll', 'm', 'o', 're', 've', 'y', 'ain', 'aren', \"aren't\", 'couldn', \"couldn't\", 'didn', \"didn't\", 'doesn', \"doesn't\", 'hadn', \"hadn't\", 'hasn', \"hasn't\", 'haven', \"haven't\", 'isn', \"isn't\", 'ma', 'mightn', \"mightn't\", 'mustn', \"mustn't\", 'needn', \"needn't\", 'shan', \"shan't\", 'shouldn', \"shouldn't\", 'wasn', \"wasn't\", 'weren', \"weren't\", 'won', \"won't\", 'wouldn', \"wouldn't\"]\n"
          ],
          "name": "stdout"
        }
      ]
    },
    {
      "cell_type": "code",
      "metadata": {
        "id": "4hkULfK5kuAp"
      },
      "source": [
        "def text_cleaner(text):\r\n",
        "  '''\r\n",
        "  Function take string variable and remove punctuation.\r\n",
        "  '''\r\n",
        "  \r\n",
        "  # builds a list without punctuation \r\n",
        "  text_punc_removed = [char for char in text if char not in string.punctuation]\r\n",
        "  \r\n",
        "  # combines words from a list into a complete text \r\n",
        "  text_punc_removed_join = ''.join(text_punc_removed)\r\n",
        "  \r\n",
        "  # create a list without English stopwords and changes letters into lowercase\r\n",
        "  text_punc_removed_join_clean = [word for word in text_punc_removed_join.split() if word.lower() not in stopwords.words('english')]\r\n",
        "\r\n",
        "  return text_punc_removed_join_clean"
      ],
      "execution_count": 18,
      "outputs": []
    },
    {
      "cell_type": "code",
      "metadata": {
        "colab": {
          "base_uri": "https://localhost:8080/",
          "height": 183
        },
        "id": "V8X6VSGTUlBp",
        "outputId": "e3572731-15b0-4c24-df1d-9da8b7624575"
      },
      "source": [
        "# first review sample raw text\r\n",
        "df['text'][0]"
      ],
      "execution_count": 19,
      "outputs": [
        {
          "output_type": "execute_result",
          "data": {
            "application/vnd.google.colaboratory.intrinsic+json": {
              "type": "string"
            },
            "text/plain": [
              "'My wife took me here on my birthday for breakfast and it was excellent.  The weather was perfect which made sitting outside overlooking their grounds an absolute pleasure.  Our waitress was excellent and our food arrived quickly on the semi-busy Saturday morning.  It looked like the place fills up pretty quickly so the earlier you get here the better.\\n\\nDo yourself a favor and get their Bloody Mary.  It was phenomenal and simply the best I\\'ve ever had.  I\\'m pretty sure they only use ingredients from their garden and blend them fresh when you order it.  It was amazing.\\n\\nWhile EVERYTHING on the menu looks excellent, I had the white truffle scrambled eggs vegetable skillet and it was tasty and delicious.  It came with 2 pieces of their griddled bread with was amazing and it absolutely made the meal complete.  It was the best \"toast\" I\\'ve ever had.\\n\\nAnyway, I can\\'t wait to go back!'"
            ]
          },
          "metadata": {
            "tags": []
          },
          "execution_count": 19
        }
      ]
    },
    {
      "cell_type": "code",
      "metadata": {
        "colab": {
          "base_uri": "https://localhost:8080/"
        },
        "id": "XJrKGrTYCZ2Q",
        "outputId": "ac79b859-a44b-4a8b-dea4-f5e34135ac09"
      },
      "source": [
        "# first review text after cleaning\r\n",
        "sample_string = df['text'][0]\r\n",
        "clean_sample = text_cleaner(sample_string)\r\n",
        "clean_sample"
      ],
      "execution_count": 20,
      "outputs": [
        {
          "output_type": "execute_result",
          "data": {
            "text/plain": [
              "['wife',\n",
              " 'took',\n",
              " 'birthday',\n",
              " 'breakfast',\n",
              " 'excellent',\n",
              " 'weather',\n",
              " 'perfect',\n",
              " 'made',\n",
              " 'sitting',\n",
              " 'outside',\n",
              " 'overlooking',\n",
              " 'grounds',\n",
              " 'absolute',\n",
              " 'pleasure',\n",
              " 'waitress',\n",
              " 'excellent',\n",
              " 'food',\n",
              " 'arrived',\n",
              " 'quickly',\n",
              " 'semibusy',\n",
              " 'Saturday',\n",
              " 'morning',\n",
              " 'looked',\n",
              " 'like',\n",
              " 'place',\n",
              " 'fills',\n",
              " 'pretty',\n",
              " 'quickly',\n",
              " 'earlier',\n",
              " 'get',\n",
              " 'better',\n",
              " 'favor',\n",
              " 'get',\n",
              " 'Bloody',\n",
              " 'Mary',\n",
              " 'phenomenal',\n",
              " 'simply',\n",
              " 'best',\n",
              " 'Ive',\n",
              " 'ever',\n",
              " 'Im',\n",
              " 'pretty',\n",
              " 'sure',\n",
              " 'use',\n",
              " 'ingredients',\n",
              " 'garden',\n",
              " 'blend',\n",
              " 'fresh',\n",
              " 'order',\n",
              " 'amazing',\n",
              " 'EVERYTHING',\n",
              " 'menu',\n",
              " 'looks',\n",
              " 'excellent',\n",
              " 'white',\n",
              " 'truffle',\n",
              " 'scrambled',\n",
              " 'eggs',\n",
              " 'vegetable',\n",
              " 'skillet',\n",
              " 'tasty',\n",
              " 'delicious',\n",
              " 'came',\n",
              " '2',\n",
              " 'pieces',\n",
              " 'griddled',\n",
              " 'bread',\n",
              " 'amazing',\n",
              " 'absolutely',\n",
              " 'made',\n",
              " 'meal',\n",
              " 'complete',\n",
              " 'best',\n",
              " 'toast',\n",
              " 'Ive',\n",
              " 'ever',\n",
              " 'Anyway',\n",
              " 'cant',\n",
              " 'wait',\n",
              " 'go',\n",
              " 'back']"
            ]
          },
          "metadata": {
            "tags": []
          },
          "execution_count": 20
        }
      ]
    },
    {
      "cell_type": "code",
      "metadata": {
        "id": "jufA11Ynq75E"
      },
      "source": [
        "# apply \"text_cleaner\" function on all column with reviews\r\n",
        "df['text_clean'] = df['text'].apply(text_cleaner)\r\n",
        "#df['text_clean'][0]"
      ],
      "execution_count": 21,
      "outputs": []
    },
    {
      "cell_type": "markdown",
      "metadata": {
        "id": "nd3f75Oh8BKE"
      },
      "source": [
        "#TEXT COUNT VECTORIZATION"
      ]
    },
    {
      "cell_type": "code",
      "metadata": {
        "id": "V1fExlYl7CMR"
      },
      "source": [
        "# create two DataFrames \r\n",
        "# negative reviews\r\n",
        "df_1 = df[df['stars'] == 1]\r\n",
        "# second with positive\r\n",
        "df_5 = df[df['stars'] == 5]"
      ],
      "execution_count": 22,
      "outputs": []
    },
    {
      "cell_type": "code",
      "metadata": {
        "colab": {
          "base_uri": "https://localhost:8080/"
        },
        "id": "v4o489A2GRQl",
        "outputId": "c67367f7-a998-4201-a76b-d8a552da7512"
      },
      "source": [
        "print(\"Reviews NEGATIVE: \",len(df_1))\r\n",
        "print(\"Reviews POSITIVE: \",len(df_5))"
      ],
      "execution_count": 23,
      "outputs": [
        {
          "output_type": "stream",
          "text": [
            "Reviews NEGATIVE:  749\n",
            "Reviews POSITIVE:  3337\n"
          ],
          "name": "stdout"
        }
      ]
    },
    {
      "cell_type": "code",
      "metadata": {
        "colab": {
          "base_uri": "https://localhost:8080/"
        },
        "id": "2BiubRV47B11",
        "outputId": "42e973dd-c22b-46bd-f8e9-a8b6cb439e6b"
      },
      "source": [
        "# create a new DataFrame with only two classes of reviews\r\n",
        "df_1_5 = pd.concat([df_1, df_5])\r\n",
        "df_1_5.shape"
      ],
      "execution_count": 24,
      "outputs": [
        {
          "output_type": "execute_result",
          "data": {
            "text/plain": [
              "(4086, 12)"
            ]
          },
          "metadata": {
            "tags": []
          },
          "execution_count": 24
        }
      ]
    },
    {
      "cell_type": "code",
      "metadata": {
        "id": "DzaSfBuwmj1P"
      },
      "source": [
        "# cleaning and transforming text revies into count vectorized form\r\n",
        "vectorizer = CountVectorizer(analyzer=text_cleaner)\r\n",
        "text_countvectorizer = vectorizer.fit_transform(df_1_5['text'])"
      ],
      "execution_count": 25,
      "outputs": []
    },
    {
      "cell_type": "code",
      "metadata": {
        "colab": {
          "base_uri": "https://localhost:8080/"
        },
        "id": "ygksNX13zjVp",
        "outputId": "487e024d-2313-47a5-d1bc-ad58a90e351e"
      },
      "source": [
        "text_countvectorizer.shape"
      ],
      "execution_count": 26,
      "outputs": [
        {
          "output_type": "execute_result",
          "data": {
            "text/plain": [
              "(4086, 26435)"
            ]
          },
          "metadata": {
            "tags": []
          },
          "execution_count": 26
        }
      ]
    },
    {
      "cell_type": "code",
      "metadata": {
        "id": "555mAyxoyaUj",
        "colab": {
          "base_uri": "https://localhost:8080/"
        },
        "outputId": "7caa4515-9dc1-4c61-a433-64bda70b3ccd"
      },
      "source": [
        "vectorizer.get_feature_names()"
      ],
      "execution_count": 27,
      "outputs": [
        {
          "output_type": "execute_result",
          "data": {
            "text/plain": [
              "['0',\n",
              " '00s',\n",
              " '01042012',\n",
              " '022010',\n",
              " '03342',\n",
              " '05',\n",
              " '050',\n",
              " '06',\n",
              " '07092008',\n",
              " '075',\n",
              " '09',\n",
              " '090',\n",
              " '095',\n",
              " '1',\n",
              " '10',\n",
              " '100',\n",
              " '1000',\n",
              " '10000',\n",
              " '1000am',\n",
              " '1000pm',\n",
              " '1000x',\n",
              " '1001',\n",
              " '100150',\n",
              " '1007',\n",
              " '100s',\n",
              " '100th',\n",
              " '101',\n",
              " '1011',\n",
              " '1012',\n",
              " '101412',\n",
              " '1015',\n",
              " '102',\n",
              " '1025',\n",
              " '1030',\n",
              " '103011',\n",
              " '1030pm',\n",
              " '10312012',\n",
              " '105',\n",
              " '105°',\n",
              " '1070',\n",
              " '108',\n",
              " '109',\n",
              " '1095',\n",
              " '1099',\n",
              " '10Shrimp',\n",
              " '10X',\n",
              " '10am',\n",
              " '10am4pm',\n",
              " '10close',\n",
              " '10each',\n",
              " '10gallon',\n",
              " '10ish',\n",
              " '10min',\n",
              " '10mins',\n",
              " '10minutes',\n",
              " '10person',\n",
              " '10pm',\n",
              " '10pm12am',\n",
              " '10th',\n",
              " '10thand',\n",
              " '10yard',\n",
              " '10yo',\n",
              " '11',\n",
              " '110',\n",
              " '1100',\n",
              " '1100am',\n",
              " '1103',\n",
              " '111',\n",
              " '1113',\n",
              " '1115',\n",
              " '1118',\n",
              " '111807',\n",
              " '111809',\n",
              " '111909',\n",
              " '111PM',\n",
              " '111th',\n",
              " '112',\n",
              " '112312',\n",
              " '1125',\n",
              " '1130',\n",
              " '1130am',\n",
              " '1135',\n",
              " '1139',\n",
              " '114',\n",
              " '1141',\n",
              " '1145',\n",
              " '115',\n",
              " '1150',\n",
              " '1152',\n",
              " '1154',\n",
              " '1155',\n",
              " '115th',\n",
              " '116',\n",
              " '118',\n",
              " '1182010',\n",
              " '1199',\n",
              " '11991079',\n",
              " '11AM',\n",
              " '11PM',\n",
              " '11a3p',\n",
              " '11am',\n",
              " '11ish',\n",
              " '11person',\n",
              " '11pm',\n",
              " '12',\n",
              " '120',\n",
              " '1200',\n",
              " '12000',\n",
              " '1205',\n",
              " '1207',\n",
              " '120year',\n",
              " '121007',\n",
              " '121107',\n",
              " '121207',\n",
              " '1213',\n",
              " '121407',\n",
              " '1216',\n",
              " '122111',\n",
              " '122112',\n",
              " '1230',\n",
              " '1230P',\n",
              " '123110',\n",
              " '1232',\n",
              " '123200',\n",
              " '1240',\n",
              " '1244',\n",
              " '125',\n",
              " '1250',\n",
              " '12712',\n",
              " '128i',\n",
              " '129',\n",
              " '1295',\n",
              " '12am',\n",
              " '12maybe',\n",
              " '12oz',\n",
              " '12pm',\n",
              " '12th',\n",
              " '12year',\n",
              " '12yr',\n",
              " '13',\n",
              " '130',\n",
              " '1300',\n",
              " '131415',\n",
              " '13331',\n",
              " '1361',\n",
              " '13are',\n",
              " '13dont',\n",
              " '13person',\n",
              " '13th',\n",
              " '13years',\n",
              " '14',\n",
              " '140',\n",
              " '1400',\n",
              " '1417',\n",
              " '1418',\n",
              " '147',\n",
              " '149',\n",
              " '1495',\n",
              " '1499',\n",
              " '1499lb',\n",
              " '14Half',\n",
              " '14lbs',\n",
              " '15',\n",
              " '150',\n",
              " '1500',\n",
              " '15000',\n",
              " '150200',\n",
              " '150mm',\n",
              " '1520',\n",
              " '1520min',\n",
              " '1525',\n",
              " '1530',\n",
              " '1564',\n",
              " '157',\n",
              " '15plate',\n",
              " '15th',\n",
              " '15yard',\n",
              " '16',\n",
              " '160',\n",
              " '1600',\n",
              " '162',\n",
              " '165',\n",
              " '1650',\n",
              " '169',\n",
              " '1699',\n",
              " '16th',\n",
              " '17',\n",
              " '1700',\n",
              " '1719',\n",
              " '175',\n",
              " '17th',\n",
              " '18',\n",
              " '180',\n",
              " '1800',\n",
              " '1800s',\n",
              " '185',\n",
              " '1850',\n",
              " '1895',\n",
              " '1895s',\n",
              " '1899',\n",
              " '18lb',\n",
              " '18th',\n",
              " '19',\n",
              " '1900',\n",
              " '1900s',\n",
              " '1913',\n",
              " '1928',\n",
              " '1929',\n",
              " '1930s',\n",
              " '1940s',\n",
              " '195',\n",
              " '1952',\n",
              " '1953',\n",
              " '1955',\n",
              " '1956',\n",
              " '1960s',\n",
              " '1961',\n",
              " '1968',\n",
              " '1969',\n",
              " '1970',\n",
              " '1978',\n",
              " '1980',\n",
              " '1980s',\n",
              " '1987',\n",
              " '199',\n",
              " '1990',\n",
              " '1990s',\n",
              " '1992',\n",
              " '1995',\n",
              " '1996',\n",
              " '1997',\n",
              " '1998',\n",
              " '1999',\n",
              " '199not',\n",
              " '19th',\n",
              " '1Full',\n",
              " '1I',\n",
              " '1PM',\n",
              " '1cent',\n",
              " '1k',\n",
              " '1perscoop',\n",
              " '1pm',\n",
              " '1st',\n",
              " '1to1',\n",
              " '2',\n",
              " '20',\n",
              " '200',\n",
              " '2000',\n",
              " '2002',\n",
              " '2003',\n",
              " '2004',\n",
              " '2005',\n",
              " '2006',\n",
              " '2007',\n",
              " '2008',\n",
              " '2009',\n",
              " '200lbs',\n",
              " '2010',\n",
              " '2011',\n",
              " '2012',\n",
              " '2012They',\n",
              " '202',\n",
              " '2025',\n",
              " '2030',\n",
              " '2038',\n",
              " '205',\n",
              " '20mbs',\n",
              " '20miles',\n",
              " '20min',\n",
              " '20minutes',\n",
              " '20s',\n",
              " '20something',\n",
              " '20th',\n",
              " '20xs',\n",
              " '21',\n",
              " '2100',\n",
              " '214',\n",
              " '215',\n",
              " '21but',\n",
              " '21st',\n",
              " '21we',\n",
              " '22',\n",
              " '220',\n",
              " '22312',\n",
              " '2240',\n",
              " '225',\n",
              " '2253',\n",
              " '2295',\n",
              " '22oz',\n",
              " '23',\n",
              " '230',\n",
              " '235',\n",
              " '24',\n",
              " '241',\n",
              " '2412',\n",
              " '247',\n",
              " '249',\n",
              " '249449',\n",
              " '2499',\n",
              " '24and',\n",
              " '24hrs',\n",
              " '24st',\n",
              " '24th',\n",
              " '25',\n",
              " '250',\n",
              " '2500',\n",
              " '25000',\n",
              " '250400',\n",
              " '2540',\n",
              " '25min',\n",
              " '25person',\n",
              " '25th',\n",
              " '26',\n",
              " '260',\n",
              " '2600',\n",
              " '2608',\n",
              " '26Whole',\n",
              " '26th',\n",
              " '27',\n",
              " '27243',\n",
              " '275',\n",
              " '27th',\n",
              " '28',\n",
              " '285',\n",
              " '29',\n",
              " '295',\n",
              " '299',\n",
              " '2995',\n",
              " '2998',\n",
              " '2999',\n",
              " '29th',\n",
              " '2Fresh',\n",
              " '2I',\n",
              " '2Mbps',\n",
              " '2am',\n",
              " '2nd',\n",
              " '2pm',\n",
              " '2pound',\n",
              " '2rd',\n",
              " '2top',\n",
              " '2topping',\n",
              " '2wice',\n",
              " '2x',\n",
              " '3',\n",
              " '30',\n",
              " '300',\n",
              " '3000',\n",
              " '300degree',\n",
              " '3035',\n",
              " '3040',\n",
              " '3045',\n",
              " '3080',\n",
              " '30extra',\n",
              " '30s',\n",
              " '30somethings',\n",
              " '30th',\n",
              " '30years',\n",
              " '311',\n",
              " '3122669',\n",
              " '315',\n",
              " '316',\n",
              " '32',\n",
              " '3200',\n",
              " '32010because',\n",
              " '325',\n",
              " '328',\n",
              " '32s',\n",
              " '33',\n",
              " '330',\n",
              " '330pm',\n",
              " '33rd',\n",
              " '34',\n",
              " '3400',\n",
              " '34000',\n",
              " '345pm',\n",
              " '349',\n",
              " '3499',\n",
              " '34th',\n",
              " '35',\n",
              " '350',\n",
              " '350ib',\n",
              " '3540',\n",
              " '35c',\n",
              " '35th',\n",
              " '36',\n",
              " '369',\n",
              " '36pm',\n",
              " '37',\n",
              " '370',\n",
              " '375',\n",
              " '3755',\n",
              " '379',\n",
              " '38',\n",
              " '389',\n",
              " '38th',\n",
              " '39',\n",
              " '3900',\n",
              " '394',\n",
              " '398',\n",
              " '399',\n",
              " '39th',\n",
              " '3AM',\n",
              " '3Also',\n",
              " '3D',\n",
              " '3G',\n",
              " '3I',\n",
              " '3K',\n",
              " '3PM',\n",
              " '3Xyear',\n",
              " '3am',\n",
              " '3bean',\n",
              " '3egg',\n",
              " '3lbs',\n",
              " '3p6p',\n",
              " '3pm',\n",
              " '3rd',\n",
              " '3stars',\n",
              " '3x',\n",
              " '3xwk',\n",
              " '3year',\n",
              " '4',\n",
              " '40',\n",
              " '400',\n",
              " '4000',\n",
              " '400a',\n",
              " '400s',\n",
              " '4050',\n",
              " '40Lm',\n",
              " '40ish',\n",
              " '40min',\n",
              " '40th',\n",
              " '40yearold',\n",
              " '40years',\n",
              " '41',\n",
              " '411',\n",
              " '415',\n",
              " '41711',\n",
              " '42',\n",
              " '4200',\n",
              " '420000',\n",
              " '425',\n",
              " '43',\n",
              " '430',\n",
              " '430530',\n",
              " '430pm',\n",
              " '435',\n",
              " '4499',\n",
              " '44th',\n",
              " '45',\n",
              " '450',\n",
              " '450600',\n",
              " '450ish',\n",
              " '455',\n",
              " '45min',\n",
              " '46',\n",
              " '46th',\n",
              " '47',\n",
              " '4730pm',\n",
              " '475',\n",
              " '48',\n",
              " '480',\n",
              " '48th',\n",
              " '49',\n",
              " '490',\n",
              " '491',\n",
              " '495',\n",
              " '499',\n",
              " '4B',\n",
              " '4Little',\n",
              " '4PM',\n",
              " '4hr',\n",
              " '4pack',\n",
              " '4pm',\n",
              " '4pm7pm',\n",
              " '4s',\n",
              " '4star',\n",
              " '4th',\n",
              " '4that',\n",
              " '4x6',\n",
              " '5',\n",
              " '50',\n",
              " '500',\n",
              " '5000',\n",
              " '50000',\n",
              " '500pm',\n",
              " '5060',\n",
              " '5070',\n",
              " '50Lm',\n",
              " '50cents',\n",
              " '50s',\n",
              " '50thats',\n",
              " '51',\n",
              " '510',\n",
              " '515',\n",
              " '517',\n",
              " '517p',\n",
              " '52',\n",
              " '520',\n",
              " '52010',\n",
              " '5231',\n",
              " '525',\n",
              " '528',\n",
              " '53',\n",
              " '530',\n",
              " '530p',\n",
              " '530pm',\n",
              " '54',\n",
              " '545',\n",
              " '549',\n",
              " '55',\n",
              " '550',\n",
              " '552',\n",
              " '56',\n",
              " '565',\n",
              " '57',\n",
              " '575',\n",
              " '58',\n",
              " '595',\n",
              " '599',\n",
              " '5995',\n",
              " '59th',\n",
              " '5Make',\n",
              " '5k',\n",
              " '5min',\n",
              " '5p',\n",
              " '5pm',\n",
              " '5star',\n",
              " '5stars',\n",
              " '5th',\n",
              " '5yo',\n",
              " '6',\n",
              " '60',\n",
              " '600',\n",
              " '6000',\n",
              " '60000',\n",
              " '600am',\n",
              " '600pm',\n",
              " '601',\n",
              " '602',\n",
              " '6080',\n",
              " '60miles',\n",
              " '60s',\n",
              " '610',\n",
              " '612',\n",
              " '615pm',\n",
              " '618',\n",
              " '61st',\n",
              " '620',\n",
              " '62010',\n",
              " '620pm',\n",
              " '623',\n",
              " '6235474655',\n",
              " '6239774458',\n",
              " '625',\n",
              " '63',\n",
              " '630',\n",
              " '630AM',\n",
              " '630am',\n",
              " '64',\n",
              " '642',\n",
              " '64ish',\n",
              " '64th',\n",
              " '65',\n",
              " '650',\n",
              " '653pm',\n",
              " '65person',\n",
              " '66',\n",
              " '6600',\n",
              " '67',\n",
              " '67000',\n",
              " '68',\n",
              " '69',\n",
              " '699',\n",
              " '6PM',\n",
              " '6am',\n",
              " '6pack',\n",
              " '6pm',\n",
              " '6th',\n",
              " '7',\n",
              " '70',\n",
              " '700',\n",
              " '700am',\n",
              " '70lb',\n",
              " '70s',\n",
              " '70th',\n",
              " '71',\n",
              " '710',\n",
              " '711',\n",
              " '711ish',\n",
              " '715',\n",
              " '719',\n",
              " '71st',\n",
              " '725',\n",
              " '730',\n",
              " '730ish',\n",
              " '730pm',\n",
              " '74th',\n",
              " '75',\n",
              " '750',\n",
              " '7500',\n",
              " '76',\n",
              " '775',\n",
              " '78',\n",
              " '7807',\n",
              " '79',\n",
              " '7AM6PM',\n",
              " '7AM9PM',\n",
              " '7PM',\n",
              " '7am',\n",
              " '7pm',\n",
              " '7th',\n",
              " '8',\n",
              " '80',\n",
              " '800',\n",
              " '8000hp',\n",
              " '800am',\n",
              " '8020',\n",
              " '80s',\n",
              " '81',\n",
              " '810',\n",
              " '811',\n",
              " '812',\n",
              " '8132010',\n",
              " '814',\n",
              " '815',\n",
              " '815am',\n",
              " '816',\n",
              " '819',\n",
              " '820',\n",
              " '82012',\n",
              " '83',\n",
              " '830',\n",
              " '830pm',\n",
              " '832we',\n",
              " '83rd',\n",
              " '845',\n",
              " '849',\n",
              " '85',\n",
              " '850',\n",
              " '85340',\n",
              " '85year',\n",
              " '86',\n",
              " '875',\n",
              " '88',\n",
              " '89',\n",
              " '895',\n",
              " '899',\n",
              " '8AM',\n",
              " '8PM',\n",
              " '8V',\n",
              " '8am',\n",
              " '8amagain',\n",
              " '8close',\n",
              " '8pm',\n",
              " '8pm10pm',\n",
              " '8th',\n",
              " '8x10',\n",
              " '8yo',\n",
              " '9',\n",
              " '90',\n",
              " '900',\n",
              " '9000',\n",
              " '90lower',\n",
              " '90minute',\n",
              " '90s',\n",
              " '91',\n",
              " '911',\n",
              " '915',\n",
              " '925',\n",
              " '92nd',\n",
              " '93',\n",
              " '930',\n",
              " '930am',\n",
              " '945',\n",
              " '945am',\n",
              " '95',\n",
              " '950',\n",
              " '950ea',\n",
              " '951pm',\n",
              " '96',\n",
              " '975',\n",
              " '98',\n",
              " '99',\n",
              " '995',\n",
              " '9975',\n",
              " '999',\n",
              " '99999',\n",
              " '999for',\n",
              " '99cent',\n",
              " '9am',\n",
              " '9oz',\n",
              " '9p11p',\n",
              " '9pm',\n",
              " '9th',\n",
              " '9year',\n",
              " '9yo',\n",
              " 'A1',\n",
              " 'A2',\n",
              " 'AA',\n",
              " 'AAA',\n",
              " 'AAAAMAZING',\n",
              " 'AAAMMMAZZING',\n",
              " 'AB',\n",
              " 'ABC',\n",
              " 'ABSOLUTE',\n",
              " 'ABSOLUTELY',\n",
              " 'ABUELOSit',\n",
              " 'AC',\n",
              " 'ACCURATE',\n",
              " 'ADD',\n",
              " 'ADORABLE',\n",
              " 'ADORE',\n",
              " 'AEG',\n",
              " 'AFRAID',\n",
              " 'AID',\n",
              " 'AIRPORT',\n",
              " 'AJ',\n",
              " 'AJi',\n",
              " 'AJs',\n",
              " 'AKA',\n",
              " 'ALEXANDRA',\n",
              " 'ALMOST',\n",
              " 'ALOT',\n",
              " 'ALTERNATIVE',\n",
              " 'ALWAYS',\n",
              " 'ALofts',\n",
              " 'AMAAAAAZING',\n",
              " 'AMAZED',\n",
              " 'AMAZING',\n",
              " 'AMC',\n",
              " 'AMORE',\n",
              " 'AMP',\n",
              " 'AMPLE',\n",
              " 'AMPM',\n",
              " 'AMazing',\n",
              " 'AMber',\n",
              " 'ANDshes',\n",
              " 'ANGER',\n",
              " 'ANGRY',\n",
              " 'ANIMAL',\n",
              " 'ANISTON',\n",
              " 'ANOTHER',\n",
              " 'ANYBODY',\n",
              " 'ANYONE',\n",
              " 'ANYTHING',\n",
              " 'ANYWHERE',\n",
              " 'AP',\n",
              " 'APRIL',\n",
              " 'APeeling',\n",
              " 'AREA',\n",
              " 'ARIZONA',\n",
              " 'ARTS',\n",
              " 'ASAP',\n",
              " 'ASK',\n",
              " 'ASS',\n",
              " 'ASU',\n",
              " 'ASUs',\n",
              " 'ATC',\n",
              " 'ATCs',\n",
              " 'ATF',\n",
              " 'ATL',\n",
              " 'ATM',\n",
              " 'ATT',\n",
              " 'AVG',\n",
              " 'AVOID',\n",
              " 'AVOIDING',\n",
              " 'AW',\n",
              " 'AWARDWINNING',\n",
              " 'AWAY',\n",
              " 'AWEFUL',\n",
              " 'AWESOME',\n",
              " 'AWFUL',\n",
              " 'AWSOME',\n",
              " 'AZ',\n",
              " 'AZ88',\n",
              " 'AZN',\n",
              " 'AZSpaGirls',\n",
              " 'AZs',\n",
              " 'Aaron',\n",
              " 'AbbaZabba',\n",
              " 'Abby',\n",
              " 'Absinthe',\n",
              " 'Absolut',\n",
              " 'Absolute',\n",
              " 'Absolutely',\n",
              " 'Abuelos',\n",
              " 'Acacia',\n",
              " 'Academy',\n",
              " 'Acai',\n",
              " 'Acapulco',\n",
              " 'Access',\n",
              " 'According',\n",
              " 'Account',\n",
              " 'Accutemp',\n",
              " 'Ace',\n",
              " 'Acid',\n",
              " 'Acknowledge',\n",
              " 'Acne',\n",
              " 'Acres',\n",
              " 'Acting',\n",
              " 'Actor',\n",
              " 'Actually',\n",
              " 'Adam',\n",
              " 'Adams',\n",
              " 'Add',\n",
              " 'Added',\n",
              " 'Addendum',\n",
              " 'Addicted',\n",
              " 'Addiction',\n",
              " 'Adding',\n",
              " 'Additional',\n",
              " 'Additionally',\n",
              " 'Adelman',\n",
              " 'Adios',\n",
              " 'Admission',\n",
              " 'Admittedly',\n",
              " 'Adobe',\n",
              " 'Adobo',\n",
              " 'Adovada',\n",
              " 'Adrian',\n",
              " 'Adrianne',\n",
              " 'Adrienne',\n",
              " 'Adult',\n",
              " 'Advisor',\n",
              " 'Advocate',\n",
              " 'Aerobics',\n",
              " 'Aesthetically',\n",
              " 'Affordable',\n",
              " 'Africa',\n",
              " 'Afterdark',\n",
              " 'Afterward',\n",
              " 'Afterwards',\n",
              " 'Agaves',\n",
              " 'Aged',\n",
              " 'Agent',\n",
              " 'Agree',\n",
              " 'Agua',\n",
              " 'Aguila',\n",
              " 'Agwa',\n",
              " 'Ah',\n",
              " 'Ahha',\n",
              " 'Ahhh',\n",
              " 'Ahhhhh',\n",
              " 'Ahhhhhh',\n",
              " 'Ahi',\n",
              " 'Ahmazing',\n",
              " 'Ahwahtukee',\n",
              " 'Ahwatukee',\n",
              " 'Aid',\n",
              " 'Aiellos',\n",
              " 'Aiko',\n",
              " 'Air',\n",
              " 'Airlines',\n",
              " 'Airpark',\n",
              " 'Airport',\n",
              " 'Airwarys',\n",
              " 'Airways',\n",
              " 'Airwaysnever',\n",
              " 'Aisha',\n",
              " 'Aji',\n",
              " 'Ajo',\n",
              " 'Akor',\n",
              " 'Al',\n",
              " 'Alabama',\n",
              " 'Aladdins',\n",
              " 'Alain',\n",
              " 'Alameda',\n",
              " 'Alan',\n",
              " 'Alas',\n",
              " 'AlasIve',\n",
              " 'Alaska',\n",
              " 'Alaskan',\n",
              " 'Alaus',\n",
              " 'Albacore',\n",
              " 'Alber',\n",
              " 'Albertsons',\n",
              " 'Alcatraz',\n",
              " 'Ale',\n",
              " 'Alessias',\n",
              " 'Alex',\n",
              " 'Alexs',\n",
              " 'Alfalfa',\n",
              " 'Alfonso',\n",
              " 'Alfred',\n",
              " 'Alfredo',\n",
              " 'Ali',\n",
              " 'Alice',\n",
              " 'Alicia',\n",
              " 'AllAmerican',\n",
              " 'AllStar',\n",
              " 'Allegiant',\n",
              " 'Allen',\n",
              " 'Allende',\n",
              " 'Allergic',\n",
              " 'Allesias',\n",
              " 'Allison',\n",
              " 'Allow',\n",
              " 'Allstars',\n",
              " 'Almond',\n",
              " 'Almost',\n",
              " 'Aloe',\n",
              " 'Aloha',\n",
              " 'Along',\n",
              " 'Alongside',\n",
              " 'Alp',\n",
              " 'Alphagraphics',\n",
              " 'Already',\n",
              " 'Alright',\n",
              " 'Als',\n",
              " 'Also',\n",
              " 'Alterations',\n",
              " 'Although',\n",
              " 'Altic',\n",
              " 'Alvadora',\n",
              " 'Always',\n",
              " 'Amados',\n",
              " 'Amalfi',\n",
              " 'Amanda',\n",
              " 'Amaro',\n",
              " 'Amazed',\n",
              " 'Amazing',\n",
              " 'Amazingly',\n",
              " 'Amazon',\n",
              " 'Amazoncom',\n",
              " 'Ambassador',\n",
              " 'Amber',\n",
              " 'Ambiance',\n",
              " 'Ambrosia',\n",
              " 'Ambulance',\n",
              " 'Amenities',\n",
              " 'AmeriZona',\n",
              " 'America',\n",
              " 'American',\n",
              " 'AmericanFrench',\n",
              " 'Americana',\n",
              " 'Americanized',\n",
              " 'AmericanizedItalian',\n",
              " 'Americano',\n",
              " 'Americanos',\n",
              " 'Americans',\n",
              " 'Americas',\n",
              " 'Ameritrash',\n",
              " 'Amin',\n",
              " 'Amish',\n",
              " 'Amomi',\n",
              " 'Amore',\n",
              " 'Amphitheatre',\n",
              " 'Ample',\n",
              " 'Amsterdam',\n",
              " 'Amtrack',\n",
              " 'Amuse',\n",
              " 'Amy',\n",
              " 'Anaheim',\n",
              " 'Anchored',\n",
              " 'Andiamo',\n",
              " 'Andrea',\n",
              " 'Andrew',\n",
              " 'Andrews',\n",
              " 'Andwait',\n",
              " 'AndyAndrew',\n",
              " 'Andys',\n",
              " 'Angel',\n",
              " 'Angela',\n",
              " 'Angelas',\n",
              " 'Angeles',\n",
              " 'Angelesjust',\n",
              " 'Angello',\n",
              " 'Angels',\n",
              " 'Angie',\n",
              " 'Angry',\n",
              " 'Anibal',\n",
              " 'Animal',\n",
              " 'Animals',\n",
              " 'Anise',\n",
              " 'Ann',\n",
              " 'Anne',\n",
              " 'Annette',\n",
              " 'Annie',\n",
              " 'Annies',\n",
              " 'Annihilator',\n",
              " 'Anniversary',\n",
              " 'Annoying',\n",
              " 'Anns',\n",
              " 'Another',\n",
              " 'Ansel',\n",
              " 'Answer',\n",
              " 'Anthem',\n",
              " 'Anthems',\n",
              " 'Anthony',\n",
              " 'Anti',\n",
              " 'Antipasto',\n",
              " 'Antique',\n",
              " 'Antiques',\n",
              " 'Antonio',\n",
              " 'Antono',\n",
              " 'Ants',\n",
              " 'Anyhow',\n",
              " 'Anyone',\n",
              " 'Anything',\n",
              " 'Anytime',\n",
              " ...]"
            ]
          },
          "metadata": {
            "tags": []
          },
          "execution_count": 27
        }
      ]
    },
    {
      "cell_type": "markdown",
      "metadata": {
        "id": "DAB1VfCK08IU"
      },
      "source": [
        "#"
      ]
    },
    {
      "cell_type": "code",
      "metadata": {
        "id": "0tTEobYK1gQl"
      },
      "source": [
        "#df_1_5['stars'].values"
      ],
      "execution_count": 28,
      "outputs": []
    },
    {
      "cell_type": "markdown",
      "metadata": {
        "id": "YC47K0JPqgRQ"
      },
      "source": [
        "#MODEL CREATION"
      ]
    },
    {
      "cell_type": "code",
      "metadata": {
        "id": "W4BcLr_j07Ix"
      },
      "source": [
        "# Naive Bayes model creation\r\n",
        "classifer_NB = MultinomialNB(alpha=0.01)\r\n",
        "label = df_1_5['stars'].values"
      ],
      "execution_count": 29,
      "outputs": []
    },
    {
      "cell_type": "code",
      "metadata": {
        "colab": {
          "base_uri": "https://localhost:8080/"
        },
        "id": "wS0_6FAp2B_J",
        "outputId": "bef77801-c895-42dd-c17a-e8b272421922"
      },
      "source": [
        "# Fitting the entire countvectorized data set to the Naive Bayes model \r\n",
        "classifer_NB.fit(text_countvectorizer, label)"
      ],
      "execution_count": 30,
      "outputs": [
        {
          "output_type": "execute_result",
          "data": {
            "text/plain": [
              "MultinomialNB(alpha=0.01, class_prior=None, fit_prior=True)"
            ]
          },
          "metadata": {
            "tags": []
          },
          "execution_count": 30
        }
      ]
    },
    {
      "cell_type": "code",
      "metadata": {
        "id": "B4PkUpL62mQR"
      },
      "source": [
        "# sample reviews for model testing\r\n",
        "test_sample_1 = ['amazing food! highly recommended']\r\n",
        "test_sample_2 = ['shit food, made me sick']"
      ],
      "execution_count": 31,
      "outputs": []
    },
    {
      "cell_type": "code",
      "metadata": {
        "colab": {
          "base_uri": "https://localhost:8080/"
        },
        "id": "0d0OQalH2575",
        "outputId": "a253315b-0f39-4d1c-c2a4-ceda7ecb2fb3"
      },
      "source": [
        "# countvectorization of the first sample review\r\n",
        "testing_sample_countvectorizer = vectorizer.transform(test_sample_1)\r\n",
        "# prediction on the first sample\r\n",
        "classifer_NB.predict(testing_sample_countvectorizer)"
      ],
      "execution_count": 32,
      "outputs": [
        {
          "output_type": "execute_result",
          "data": {
            "text/plain": [
              "array([5])"
            ]
          },
          "metadata": {
            "tags": []
          },
          "execution_count": 32
        }
      ]
    },
    {
      "cell_type": "code",
      "metadata": {
        "colab": {
          "base_uri": "https://localhost:8080/"
        },
        "id": "jsRHpE_c3xLC",
        "outputId": "62ff0ed8-c167-429d-e8a4-13aa34ea7581"
      },
      "source": [
        "# countvectorization of second sample review\r\n",
        "testing_sample_countvectorizer = vectorizer.transform(test_sample_2)\r\n",
        "# prediction on the second sample\r\n",
        "classifer_NB.predict(testing_sample_countvectorizer)"
      ],
      "execution_count": 33,
      "outputs": [
        {
          "output_type": "execute_result",
          "data": {
            "text/plain": [
              "array([1])"
            ]
          },
          "metadata": {
            "tags": []
          },
          "execution_count": 33
        }
      ]
    },
    {
      "cell_type": "code",
      "metadata": {
        "colab": {
          "base_uri": "https://localhost:8080/"
        },
        "id": "0T881cb4q8f_",
        "outputId": "ad050de3-5410-4802-b1c0-939ce98cd179"
      },
      "source": [
        "# Classification of custom reviews with NaiveBayes Classyficator\r\n",
        "text_to_check = []\r\n",
        "text_to_check.append(str(input()))\r\n",
        "text_to_check_vectroized = vectorizer.transform(text_to_check)\r\n",
        "text_to_check_prediction = classifer_NB.predict(text_to_check_vectroized)\r\n",
        "text_to_check_prediction[0]\r\n",
        "if text_to_check_prediction[0] == 5:\r\n",
        "  print('POSITIVE review')\r\n",
        "else:\r\n",
        "  print('NEGATIVE review')"
      ],
      "execution_count": 34,
      "outputs": [
        {
          "output_type": "stream",
          "text": [
            "bad food shit\n",
            "NEGATIVE review\n"
          ],
          "name": "stdout"
        }
      ]
    },
    {
      "cell_type": "markdown",
      "metadata": {
        "id": "swpvkUvQZuqC"
      },
      "source": [
        "#CREATE TRAIN AND TEST SETS"
      ]
    },
    {
      "cell_type": "code",
      "metadata": {
        "id": "EafihRuH-AS5"
      },
      "source": [
        "# Training set and label set creation\r\n",
        "X = text_countvectorizer\r\n",
        "y = label"
      ],
      "execution_count": 35,
      "outputs": []
    },
    {
      "cell_type": "code",
      "metadata": {
        "colab": {
          "base_uri": "https://localhost:8080/"
        },
        "id": "_JeGGAya-any",
        "outputId": "5f99c86c-0fae-475c-aec8-34a333ee9afb"
      },
      "source": [
        "# check the dimensionality\r\n",
        "X.shape"
      ],
      "execution_count": 36,
      "outputs": [
        {
          "output_type": "execute_result",
          "data": {
            "text/plain": [
              "(4086, 26435)"
            ]
          },
          "metadata": {
            "tags": []
          },
          "execution_count": 36
        }
      ]
    },
    {
      "cell_type": "code",
      "metadata": {
        "colab": {
          "base_uri": "https://localhost:8080/"
        },
        "id": "rkEsdnYd-fzL",
        "outputId": "aaf3822f-15e7-41b2-c9ae-bf93cd24b60e"
      },
      "source": [
        "y.shape"
      ],
      "execution_count": 37,
      "outputs": [
        {
          "output_type": "execute_result",
          "data": {
            "text/plain": [
              "(4086,)"
            ]
          },
          "metadata": {
            "tags": []
          },
          "execution_count": 37
        }
      ]
    },
    {
      "cell_type": "code",
      "metadata": {
        "id": "pAcoCXZG-iMh"
      },
      "source": [
        "# Training sets and testing sets creation\r\n",
        "X_train, X_test, y_train, y_test = train_test_split(X, y, test_size=0.1)"
      ],
      "execution_count": 63,
      "outputs": []
    },
    {
      "cell_type": "code",
      "metadata": {
        "colab": {
          "base_uri": "https://localhost:8080/"
        },
        "id": "FlAnwiMnXaOe",
        "outputId": "b7d9d157-b91b-47ed-cc44-28a2ec4f66ce"
      },
      "source": [
        "type(y_test)"
      ],
      "execution_count": 64,
      "outputs": [
        {
          "output_type": "execute_result",
          "data": {
            "text/plain": [
              "numpy.ndarray"
            ]
          },
          "metadata": {
            "tags": []
          },
          "execution_count": 64
        }
      ]
    },
    {
      "cell_type": "code",
      "metadata": {
        "id": "Xhn4Km9pG3dv"
      },
      "source": [
        "# \r\n",
        "#y_test_np_array = np.array(y_test)"
      ],
      "execution_count": 39,
      "outputs": []
    },
    {
      "cell_type": "code",
      "metadata": {
        "id": "hOj7VyclJOCu"
      },
      "source": [
        "test_values = pd.DataFrame(data=y_test_np_array)"
      ],
      "execution_count": 65,
      "outputs": []
    },
    {
      "cell_type": "code",
      "metadata": {
        "colab": {
          "base_uri": "https://localhost:8080/"
        },
        "id": "u6Pg9f1sJfpG",
        "outputId": "92ad22b3-f2ab-4502-8bd0-b19da9b10364"
      },
      "source": [
        "test_values.value_counts()"
      ],
      "execution_count": 66,
      "outputs": [
        {
          "output_type": "execute_result",
          "data": {
            "text/plain": [
              "5    693\n",
              "1    125\n",
              "dtype: int64"
            ]
          },
          "metadata": {
            "tags": []
          },
          "execution_count": 66
        }
      ]
    },
    {
      "cell_type": "markdown",
      "metadata": {
        "id": "P2HI7HxV-5BS"
      },
      "source": [
        "#MODEL EVALUATION"
      ]
    },
    {
      "cell_type": "code",
      "metadata": {
        "colab": {
          "base_uri": "https://localhost:8080/"
        },
        "id": "K7HiZUvm-5i5",
        "outputId": "d5a6dc17-68b6-4626-d2fb-af1c2f068013"
      },
      "source": [
        "# Building a new model for evaluation \r\n",
        "classifer_NB_Ev = MultinomialNB(alpha=0.1)\r\n",
        "classifer_NB_Ev.fit(X_train, y_train)"
      ],
      "execution_count": 82,
      "outputs": [
        {
          "output_type": "execute_result",
          "data": {
            "text/plain": [
              "MultinomialNB(alpha=0.1, class_prior=None, fit_prior=True)"
            ]
          },
          "metadata": {
            "tags": []
          },
          "execution_count": 82
        }
      ]
    },
    {
      "cell_type": "code",
      "metadata": {
        "id": "SEAWmV7z_9J9"
      },
      "source": [
        "# Doing predictions on test data set\r\n",
        "y_pred = classifer_NB_Ev.predict(X_test)"
      ],
      "execution_count": 83,
      "outputs": []
    },
    {
      "cell_type": "code",
      "metadata": {
        "colab": {
          "base_uri": "https://localhost:8080/"
        },
        "id": "kMHAZ3n7AK2q",
        "outputId": "a598c78b-661b-453d-9019-983d02962ada"
      },
      "source": [
        "y_pred.shape"
      ],
      "execution_count": 74,
      "outputs": [
        {
          "output_type": "execute_result",
          "data": {
            "text/plain": [
              "(409,)"
            ]
          },
          "metadata": {
            "tags": []
          },
          "execution_count": 74
        }
      ]
    },
    {
      "cell_type": "code",
      "metadata": {
        "id": "NvuJUnueC751"
      },
      "source": [
        "#y_pred"
      ],
      "execution_count": 61,
      "outputs": []
    },
    {
      "cell_type": "markdown",
      "metadata": {
        "id": "OyEqB-mKB7nu"
      },
      "source": [
        "#CLASSIFIER METRICS"
      ]
    },
    {
      "cell_type": "code",
      "metadata": {
        "colab": {
          "base_uri": "https://localhost:8080/",
          "height": 265
        },
        "id": "eNQqIsntB77Y",
        "outputId": "bf5e6aaa-49b8-4e5b-d037-921a63af1264"
      },
      "source": [
        "# Create and display confusin matrix for Naive Bayes Classificator\r\n",
        "conf_matrix = confusion_matrix(y_test, y_pred)\r\n",
        "sns.heatmap(conf_matrix, annot=True);"
      ],
      "execution_count": 84,
      "outputs": [
        {
          "output_type": "display_data",
          "data": {
            "image/png": "[encoded data removed]",
            "text/plain": [
              "<Figure size 432x288 with 2 Axes>"
            ]
          },
          "metadata": {
            "tags": [],
            "needs_background": "light"
          }
        }
      ]
    },
    {
      "cell_type": "code",
      "metadata": {
        "colab": {
          "base_uri": "https://localhost:8080/"
        },
        "id": "QPNESSzRJ9Au",
        "outputId": "9f478582-8092-4b2c-d127-f68aaaa97426"
      },
      "source": [
        "# Print the model prediction classification report\r\n",
        "print(classification_report(y_test, y_pred))"
      ],
      "execution_count": 85,
      "outputs": [
        {
          "output_type": "stream",
          "text": [
            "              precision    recall  f1-score   support\n",
            "\n",
            "           1       0.77      0.89      0.83        91\n",
            "           5       0.97      0.92      0.95       318\n",
            "\n",
            "    accuracy                           0.92       409\n",
            "   macro avg       0.87      0.91      0.89       409\n",
            "weighted avg       0.92      0.92      0.92       409\n",
            "\n"
          ],
          "name": "stdout"
        }
      ]
    },
    {
      "cell_type": "markdown",
      "metadata": {
        "id": "0JXiqxQwamm1"
      },
      "source": [
        "# GRADINET BOOSTING CLASSIFIER"
      ]
    },
    {
      "cell_type": "code",
      "metadata": {
        "id": "obErbOXCKKSe"
      },
      "source": [
        "# Create Gradient Boosting Model for test\r\n",
        "from sklearn.ensemble import GradientBoostingClassifier as XGB\r\n",
        "classifer_XGB = XGB(loss='deviance', learning_rate=1, n_estimators=60)\r\n",
        "classifer_XGB.fit(X_train, y_train)\r\n",
        "y_pred_xgb = classifer_XGB.predict(X_test)"
      ],
      "execution_count": 98,
      "outputs": []
    },
    {
      "cell_type": "code",
      "metadata": {
        "colab": {
          "base_uri": "https://localhost:8080/",
          "height": 269
        },
        "id": "XgUvfvH4NXs-",
        "outputId": "a756c263-b92e-41e6-af36-8a7bb8597f35"
      },
      "source": [
        "# Create and display confusin matrix for Gradient Boosting Classificator\r\n",
        "conf_matrix_2 = confusion_matrix(y_test, y_pred_xgb)\r\n",
        "sns.heatmap(conf_matrix_2, annot=True);"
      ],
      "execution_count": 99,
      "outputs": [
        {
          "output_type": "display_data",
          "data": {
            "image/png": "[encoded data removed]",
            "text/plain": [
              "<Figure size 432x288 with 2 Axes>"
            ]
          },
          "metadata": {
            "tags": [],
            "needs_background": "light"
          }
        }
      ]
    },
    {
      "cell_type": "code",
      "metadata": {
        "colab": {
          "base_uri": "https://localhost:8080/"
        },
        "id": "h4vtUzQqi-ZE",
        "outputId": "4e213699-83ef-4f3d-f53c-dfe54b95059b"
      },
      "source": [
        "# Print the report of Gradient Boosting Classfier \r\n",
        "print(classification_report(y_test, y_pred_xgb))"
      ],
      "execution_count": 100,
      "outputs": [
        {
          "output_type": "stream",
          "text": [
            "              precision    recall  f1-score   support\n",
            "\n",
            "           1       0.68      0.42      0.52        91\n",
            "           5       0.85      0.94      0.89       318\n",
            "\n",
            "    accuracy                           0.83       409\n",
            "   macro avg       0.76      0.68      0.71       409\n",
            "weighted avg       0.81      0.83      0.81       409\n",
            "\n"
          ],
          "name": "stdout"
        }
      ]
    }
  ]
}